{
 "cells": [
  {
   "cell_type": "code",
   "execution_count": 1,
   "metadata": {},
   "outputs": [],
   "source": [
    "import numpy as np\n",
    "import pandas as pd\n",
    "import requests\n",
    "from bs4 import BeautifulSoup\n",
    "import time"
   ]
  },
  {
   "cell_type": "raw",
   "metadata": {},
   "source": [
    "THIS IS A PYTHON SCRAPPER THAT SCRAPS WIKIPEDIA FOR COVID 19 CASES AND SAVES AS A COMA SEPARATED FILE"
   ]
  },
  {
   "cell_type": "markdown",
   "metadata": {},
   "source": [
    "# STEP 1 (GETTING THE DATA FROM WIKIPEDIA)"
   ]
  },
  {
   "cell_type": "code",
   "execution_count": 2,
   "metadata": {},
   "outputs": [],
   "source": [
    "res = requests.get('https://en.wikipedia.org/wiki/2019–20_coronavirus_pandemic_by_country_and_territory')"
   ]
  },
  {
   "cell_type": "markdown",
   "metadata": {},
   "source": [
    "The above information is obtained directly from [WIKIPEDIA](https://en.wikipedia.org/wiki/2019–20_coronavirus_pandemic_by_country_and_territory)"
   ]
  },
  {
   "cell_type": "code",
   "execution_count": 3,
   "metadata": {},
   "outputs": [
    {
     "data": {
      "text/plain": [
       "requests.models.Response"
      ]
     },
     "execution_count": 3,
     "metadata": {},
     "output_type": "execute_result"
    }
   ],
   "source": [
    "type(res)"
   ]
  },
  {
   "cell_type": "markdown",
   "metadata": {},
   "source": [
    "# STEP 2(CONVERTING INTO BEAUTIFULSOUP OBJECT)"
   ]
  },
  {
   "cell_type": "code",
   "execution_count": 4,
   "metadata": {},
   "outputs": [],
   "source": [
    "# Beautiful Soup is a library that makes it easy to scrape information from web pages. \n",
    "#It sits atop an HTML or XML parser, providing Pythonic idioms for iterating, searching, and modifying the parse tree.\n",
    "soup = BeautifulSoup(res.text, 'lxml')\n"
   ]
  },
  {
   "cell_type": "code",
   "execution_count": 7,
   "metadata": {},
   "outputs": [],
   "source": [
    "#fetching the table having the container \n",
    "covid_19_table = soup.find('div', {'id':'covid19-container'})\n"
   ]
  },
  {
   "cell_type": "code",
   "execution_count": 8,
   "metadata": {},
   "outputs": [
    {
     "data": {
      "text/plain": [
       "4"
      ]
     },
     "execution_count": 8,
     "metadata": {},
     "output_type": "execute_result"
    }
   ],
   "source": [
    "len(covid_19_table)"
   ]
  },
  {
   "cell_type": "code",
   "execution_count": 9,
   "metadata": {},
   "outputs": [],
   "source": [
    "#Prettify applies various stylistic formatting conventions to it. \n",
    "#These formatting conventions usually adjust positioning, spacing, \n",
    "#and similar modifications intended to make the content easier for people to view, read, and understand.\n",
    "covid_19_table_ = covid_19_table.prettify()"
   ]
  },
  {
   "cell_type": "code",
   "execution_count": 10,
   "metadata": {},
   "outputs": [
    {
     "data": {
      "text/html": [
       "<div>\n",
       "<style scoped>\n",
       "    .dataframe tbody tr th:only-of-type {\n",
       "        vertical-align: middle;\n",
       "    }\n",
       "\n",
       "    .dataframe tbody tr th {\n",
       "        vertical-align: top;\n",
       "    }\n",
       "\n",
       "    .dataframe thead tr th {\n",
       "        text-align: left;\n",
       "    }\n",
       "</style>\n",
       "<table border=\"1\" class=\"dataframe\">\n",
       "  <thead>\n",
       "    <tr>\n",
       "      <th></th>\n",
       "      <th colspan=\"2\" halign=\"left\">Countries and territories  [b]</th>\n",
       "      <th>Cases  [a]</th>\n",
       "      <th>Deaths  [c]</th>\n",
       "      <th>Recov.  [d]</th>\n",
       "      <th>Ref.</th>\n",
       "    </tr>\n",
       "    <tr>\n",
       "      <th></th>\n",
       "      <th>â  225</th>\n",
       "      <th>â  225.1</th>\n",
       "      <th>â  3,083,467</th>\n",
       "      <th>â  213,824</th>\n",
       "      <th>â  915,988</th>\n",
       "      <th>[4]</th>\n",
       "    </tr>\n",
       "  </thead>\n",
       "  <tbody>\n",
       "    <tr>\n",
       "      <th>0</th>\n",
       "      <td>NaN</td>\n",
       "      <td>United States  [e]</td>\n",
       "      <td>1033721</td>\n",
       "      <td>58947</td>\n",
       "      <td>117690</td>\n",
       "      <td>[11]</td>\n",
       "    </tr>\n",
       "    <tr>\n",
       "      <th>1</th>\n",
       "      <td>NaN</td>\n",
       "      <td>Spain</td>\n",
       "      <td>210773</td>\n",
       "      <td>23822</td>\n",
       "      <td>102548</td>\n",
       "      <td>[12]</td>\n",
       "    </tr>\n",
       "    <tr>\n",
       "      <th>2</th>\n",
       "      <td>NaN</td>\n",
       "      <td>Italy</td>\n",
       "      <td>201505</td>\n",
       "      <td>27359</td>\n",
       "      <td>68941</td>\n",
       "      <td>[13]  [14]</td>\n",
       "    </tr>\n",
       "    <tr>\n",
       "      <th>3</th>\n",
       "      <td>NaN</td>\n",
       "      <td>United Kingdom  [f]</td>\n",
       "      <td>161145</td>\n",
       "      <td>21678</td>\n",
       "      <td>â</td>\n",
       "      <td>[16]</td>\n",
       "    </tr>\n",
       "    <tr>\n",
       "      <th>4</th>\n",
       "      <td>NaN</td>\n",
       "      <td>Germany  [g]</td>\n",
       "      <td>159735</td>\n",
       "      <td>6280</td>\n",
       "      <td>110041</td>\n",
       "      <td>[17]  [18]</td>\n",
       "    </tr>\n",
       "  </tbody>\n",
       "</table>\n",
       "</div>"
      ],
      "text/plain": [
       "  Countries and territories  [b]                          Cases  [a]  \\\n",
       "                        â  225           â  225.1 â  3,083,467   \n",
       "0                            NaN   United States  [e]        1033721   \n",
       "1                            NaN                Spain         210773   \n",
       "2                            NaN                Italy         201505   \n",
       "3                            NaN  United Kingdom  [f]         161145   \n",
       "4                            NaN         Germany  [g]         159735   \n",
       "\n",
       "   Deaths  [c]  Recov.  [d]        Ref.  \n",
       "  â  213,824 â  915,988         [4]  \n",
       "0        58947       117690        [11]  \n",
       "1        23822       102548        [12]  \n",
       "2        27359        68941  [13]  [14]  \n",
       "3        21678          â        [16]  \n",
       "4         6280       110041  [17]  [18]  "
      ]
     },
     "execution_count": 10,
     "metadata": {},
     "output_type": "execute_result"
    }
   ],
   "source": [
    "#reading the html\n",
    "results = pd.read_html((covid_19_table_.encode('utf8')))     \n",
    "res_l = list(results)\n",
    "res_l[0].head()\n"
   ]
  },
  {
   "cell_type": "markdown",
   "metadata": {},
   "source": [
    "# STEP 3 DATA CLEANING "
   ]
  },
  {
   "cell_type": "code",
   "execution_count": 11,
   "metadata": {},
   "outputs": [
    {
     "data": {
      "text/html": [
       "<div>\n",
       "<style scoped>\n",
       "    .dataframe tbody tr th:only-of-type {\n",
       "        vertical-align: middle;\n",
       "    }\n",
       "\n",
       "    .dataframe tbody tr th {\n",
       "        vertical-align: top;\n",
       "    }\n",
       "\n",
       "    .dataframe thead tr th {\n",
       "        text-align: left;\n",
       "    }\n",
       "</style>\n",
       "<table border=\"1\" class=\"dataframe\">\n",
       "  <thead>\n",
       "    <tr>\n",
       "      <th></th>\n",
       "      <th>Countries and territories  [b]</th>\n",
       "      <th>Cases  [a]</th>\n",
       "      <th>Deaths  [c]</th>\n",
       "      <th>Recov.  [d]</th>\n",
       "    </tr>\n",
       "    <tr>\n",
       "      <th></th>\n",
       "      <th>â  225.1</th>\n",
       "      <th>â  3,083,467</th>\n",
       "      <th>â  213,824</th>\n",
       "      <th>â  915,988</th>\n",
       "    </tr>\n",
       "  </thead>\n",
       "  <tbody>\n",
       "    <tr>\n",
       "      <th>0</th>\n",
       "      <td>United States  [e]</td>\n",
       "      <td>1033721</td>\n",
       "      <td>58947</td>\n",
       "      <td>117690</td>\n",
       "    </tr>\n",
       "    <tr>\n",
       "      <th>1</th>\n",
       "      <td>Spain</td>\n",
       "      <td>210773</td>\n",
       "      <td>23822</td>\n",
       "      <td>102548</td>\n",
       "    </tr>\n",
       "    <tr>\n",
       "      <th>2</th>\n",
       "      <td>Italy</td>\n",
       "      <td>201505</td>\n",
       "      <td>27359</td>\n",
       "      <td>68941</td>\n",
       "    </tr>\n",
       "    <tr>\n",
       "      <th>3</th>\n",
       "      <td>United Kingdom  [f]</td>\n",
       "      <td>161145</td>\n",
       "      <td>21678</td>\n",
       "      <td>â</td>\n",
       "    </tr>\n",
       "    <tr>\n",
       "      <th>4</th>\n",
       "      <td>Germany  [g]</td>\n",
       "      <td>159735</td>\n",
       "      <td>6280</td>\n",
       "      <td>110041</td>\n",
       "    </tr>\n",
       "  </tbody>\n",
       "</table>\n",
       "</div>"
      ],
      "text/plain": [
       "  Countries and territories  [b]     Cases  [a]  Deaths  [c]  Recov.  [d]\n",
       "                      â  225.1 â  3,083,467 â  213,824 â  915,988\n",
       "0             United States  [e]        1033721        58947       117690\n",
       "1                          Spain         210773        23822       102548\n",
       "2                          Italy         201505        27359        68941\n",
       "3            United Kingdom  [f]         161145        21678          â\n",
       "4                   Germany  [g]         159735         6280       110041"
      ]
     },
     "execution_count": 11,
     "metadata": {},
     "output_type": "execute_result"
    }
   ],
   "source": [
    "#droping unused columns\n",
    "df = res_l[0]\n",
    "df.drop(df.columns[[0, 5]], axis = 1, inplace = True)\n",
    "df.head()"
   ]
  },
  {
   "cell_type": "code",
   "execution_count": 12,
   "metadata": {},
   "outputs": [
    {
     "data": {
      "text/html": [
       "<div>\n",
       "<style scoped>\n",
       "    .dataframe tbody tr th:only-of-type {\n",
       "        vertical-align: middle;\n",
       "    }\n",
       "\n",
       "    .dataframe tbody tr th {\n",
       "        vertical-align: top;\n",
       "    }\n",
       "\n",
       "    .dataframe thead th {\n",
       "        text-align: right;\n",
       "    }\n",
       "</style>\n",
       "<table border=\"1\" class=\"dataframe\">\n",
       "  <thead>\n",
       "    <tr style=\"text-align: right;\">\n",
       "      <th></th>\n",
       "      <th>Countries and territories</th>\n",
       "      <th>Cases</th>\n",
       "      <th>Deaths</th>\n",
       "      <th>Recov</th>\n",
       "    </tr>\n",
       "  </thead>\n",
       "  <tbody>\n",
       "    <tr>\n",
       "      <th>0</th>\n",
       "      <td>United States  [e]</td>\n",
       "      <td>1033721</td>\n",
       "      <td>58947</td>\n",
       "      <td>117690</td>\n",
       "    </tr>\n",
       "    <tr>\n",
       "      <th>1</th>\n",
       "      <td>Spain</td>\n",
       "      <td>210773</td>\n",
       "      <td>23822</td>\n",
       "      <td>102548</td>\n",
       "    </tr>\n",
       "    <tr>\n",
       "      <th>2</th>\n",
       "      <td>Italy</td>\n",
       "      <td>201505</td>\n",
       "      <td>27359</td>\n",
       "      <td>68941</td>\n",
       "    </tr>\n",
       "    <tr>\n",
       "      <th>3</th>\n",
       "      <td>United Kingdom  [f]</td>\n",
       "      <td>161145</td>\n",
       "      <td>21678</td>\n",
       "      <td>â</td>\n",
       "    </tr>\n",
       "    <tr>\n",
       "      <th>4</th>\n",
       "      <td>Germany  [g]</td>\n",
       "      <td>159735</td>\n",
       "      <td>6280</td>\n",
       "      <td>110041</td>\n",
       "    </tr>\n",
       "  </tbody>\n",
       "</table>\n",
       "</div>"
      ],
      "text/plain": [
       "  Countries and territories    Cases Deaths   Recov\n",
       "0        United States  [e]  1033721  58947  117690\n",
       "1                     Spain   210773  23822  102548\n",
       "2                     Italy   201505  27359   68941\n",
       "3       United Kingdom  [f]   161145  21678     â\n",
       "4              Germany  [g]   159735   6280  110041"
      ]
     },
     "execution_count": 12,
     "metadata": {},
     "output_type": "execute_result"
    }
   ],
   "source": [
    "#renaming columns \n",
    "df.columns = ('Countries and territories', 'Cases', 'Deaths', 'Recov')\n",
    "df.head()"
   ]
  },
  {
   "cell_type": "code",
   "execution_count": 13,
   "metadata": {},
   "outputs": [],
   "source": [
    "#replacing  missing values with NaN\n",
    "df.replace('â', np.NaN, inplace=True)"
   ]
  },
  {
   "cell_type": "code",
   "execution_count": 14,
   "metadata": {},
   "outputs": [
    {
     "data": {
      "text/html": [
       "<div>\n",
       "<style scoped>\n",
       "    .dataframe tbody tr th:only-of-type {\n",
       "        vertical-align: middle;\n",
       "    }\n",
       "\n",
       "    .dataframe tbody tr th {\n",
       "        vertical-align: top;\n",
       "    }\n",
       "\n",
       "    .dataframe thead th {\n",
       "        text-align: right;\n",
       "    }\n",
       "</style>\n",
       "<table border=\"1\" class=\"dataframe\">\n",
       "  <thead>\n",
       "    <tr style=\"text-align: right;\">\n",
       "      <th></th>\n",
       "      <th>Countries and territories</th>\n",
       "      <th>Cases</th>\n",
       "      <th>Deaths</th>\n",
       "      <th>Recov</th>\n",
       "    </tr>\n",
       "  </thead>\n",
       "  <tbody>\n",
       "    <tr>\n",
       "      <th>0</th>\n",
       "      <td>United States  [e]</td>\n",
       "      <td>1033721</td>\n",
       "      <td>58947</td>\n",
       "      <td>117690</td>\n",
       "    </tr>\n",
       "    <tr>\n",
       "      <th>1</th>\n",
       "      <td>Spain</td>\n",
       "      <td>210773</td>\n",
       "      <td>23822</td>\n",
       "      <td>102548</td>\n",
       "    </tr>\n",
       "    <tr>\n",
       "      <th>2</th>\n",
       "      <td>Italy</td>\n",
       "      <td>201505</td>\n",
       "      <td>27359</td>\n",
       "      <td>68941</td>\n",
       "    </tr>\n",
       "    <tr>\n",
       "      <th>3</th>\n",
       "      <td>United Kingdom  [f]</td>\n",
       "      <td>161145</td>\n",
       "      <td>21678</td>\n",
       "      <td>NaN</td>\n",
       "    </tr>\n",
       "    <tr>\n",
       "      <th>4</th>\n",
       "      <td>Germany  [g]</td>\n",
       "      <td>159735</td>\n",
       "      <td>6280</td>\n",
       "      <td>110041</td>\n",
       "    </tr>\n",
       "  </tbody>\n",
       "</table>\n",
       "</div>"
      ],
      "text/plain": [
       "  Countries and territories    Cases Deaths   Recov\n",
       "0        United States  [e]  1033721  58947  117690\n",
       "1                     Spain   210773  23822  102548\n",
       "2                     Italy   201505  27359   68941\n",
       "3       United Kingdom  [f]   161145  21678     NaN\n",
       "4              Germany  [g]   159735   6280  110041"
      ]
     },
     "execution_count": 14,
     "metadata": {},
     "output_type": "execute_result"
    }
   ],
   "source": [
    "# Top 10 affected countries\n",
    "df.head()"
   ]
  },
  {
   "cell_type": "code",
   "execution_count": 15,
   "metadata": {},
   "outputs": [
    {
     "data": {
      "text/html": [
       "<div>\n",
       "<style scoped>\n",
       "    .dataframe tbody tr th:only-of-type {\n",
       "        vertical-align: middle;\n",
       "    }\n",
       "\n",
       "    .dataframe tbody tr th {\n",
       "        vertical-align: top;\n",
       "    }\n",
       "\n",
       "    .dataframe thead th {\n",
       "        text-align: right;\n",
       "    }\n",
       "</style>\n",
       "<table border=\"1\" class=\"dataframe\">\n",
       "  <thead>\n",
       "    <tr style=\"text-align: right;\">\n",
       "      <th></th>\n",
       "      <th>Countries and territories</th>\n",
       "      <th>Cases</th>\n",
       "      <th>Deaths</th>\n",
       "      <th>Recov</th>\n",
       "    </tr>\n",
       "  </thead>\n",
       "  <tbody>\n",
       "    <tr>\n",
       "      <th>223</th>\n",
       "      <td>USS  Kidd</td>\n",
       "      <td>47</td>\n",
       "      <td>0</td>\n",
       "      <td>0</td>\n",
       "    </tr>\n",
       "    <tr>\n",
       "      <th>224</th>\n",
       "      <td>MS  Zaandam  [at]</td>\n",
       "      <td>13</td>\n",
       "      <td>4</td>\n",
       "      <td>NaN</td>\n",
       "    </tr>\n",
       "    <tr>\n",
       "      <th>225</th>\n",
       "      <td>Coral Princess  [au]</td>\n",
       "      <td>12</td>\n",
       "      <td>2</td>\n",
       "      <td>NaN</td>\n",
       "    </tr>\n",
       "    <tr>\n",
       "      <th>226</th>\n",
       "      <td>HNLMS  Dolfijn  [av]</td>\n",
       "      <td>8</td>\n",
       "      <td>0</td>\n",
       "      <td>NaN</td>\n",
       "    </tr>\n",
       "    <tr>\n",
       "      <th>227</th>\n",
       "      <td>Leopold I</td>\n",
       "      <td>1</td>\n",
       "      <td>0</td>\n",
       "      <td>0</td>\n",
       "    </tr>\n",
       "  </tbody>\n",
       "</table>\n",
       "</div>"
      ],
      "text/plain": [
       "    Countries and territories Cases Deaths Recov\n",
       "223                 USS  Kidd    47      0     0\n",
       "224         MS  Zaandam  [at]    13      4   NaN\n",
       "225      Coral Princess  [au]    12      2   NaN\n",
       "226      HNLMS  Dolfijn  [av]     8      0   NaN\n",
       "227                 Leopold I     1      0     0"
      ]
     },
     "execution_count": 15,
     "metadata": {},
     "output_type": "execute_result"
    }
   ],
   "source": [
    "# least infected\n",
    "df = df.truncate(after = 227)\n",
    "df.tail()\n"
   ]
  },
  {
   "cell_type": "code",
   "execution_count": 16,
   "metadata": {},
   "outputs": [],
   "source": [
    "#simple function to save the table into a csv file\n",
    "def Make_csv(dataframe):\n",
    "    date = pd.Timestamp.now().strftime(format='%Y-%m-%d_%H-%M_')\n",
    "    df.to_csv(f'{date}COVID_19_table.csv', index=True, header=True)"
   ]
  },
  {
   "cell_type": "code",
   "execution_count": 17,
   "metadata": {},
   "outputs": [],
   "source": [
    "Make_csv(df)"
   ]
  },
  {
   "cell_type": "code",
   "execution_count": null,
   "metadata": {},
   "outputs": [],
   "source": []
  }
 ],
 "metadata": {
  "kernelspec": {
   "display_name": "Python 3",
   "language": "python",
   "name": "python3"
  },
  "language_info": {
   "codemirror_mode": {
    "name": "ipython",
    "version": 3
   },
   "file_extension": ".py",
   "mimetype": "text/x-python",
   "name": "python",
   "nbconvert_exporter": "python",
   "pygments_lexer": "ipython3",
   "version": "3.7.0"
  }
 },
 "nbformat": 4,
 "nbformat_minor": 4
}
